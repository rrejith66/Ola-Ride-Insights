{
 "cells": [
  {
   "cell_type": "code",
   "execution_count": 1,
   "id": "676d5cf1",
   "metadata": {},
   "outputs": [
    {
     "name": "stdout",
     "output_type": "stream",
     "text": [
      "Requirement already satisfied: pymysql in d:\\rejith _r\\udemy\\py312_env\\lib\\site-packages (1.1.2)\n"
     ]
    }
   ],
   "source": [
    "!pip install pymysql"
   ]
  },
  {
   "cell_type": "code",
   "execution_count": 3,
   "id": "7cb0f544",
   "metadata": {},
   "outputs": [
    {
     "name": "stdout",
     "output_type": "stream",
     "text": [
      "Collecting sqlalchemy\n",
      "  Downloading sqlalchemy-2.0.43-cp312-cp312-win_amd64.whl.metadata (9.8 kB)\n",
      "Collecting greenlet>=1 (from sqlalchemy)\n",
      "  Downloading greenlet-3.2.4-cp312-cp312-win_amd64.whl.metadata (4.2 kB)\n",
      "Requirement already satisfied: typing-extensions>=4.6.0 in d:\\rejith _r\\udemy\\py312_env\\lib\\site-packages (from sqlalchemy) (4.14.0)\n",
      "Downloading sqlalchemy-2.0.43-cp312-cp312-win_amd64.whl (2.1 MB)\n",
      "   ---------------------------------------- 0.0/2.1 MB ? eta -:--:--\n",
      "   ---------------------------------------- 0.0/2.1 MB ? eta -:--:--\n",
      "   ---- ----------------------------------- 0.3/2.1 MB ? eta -:--:--\n",
      "   -------------- ------------------------- 0.8/2.1 MB 2.2 MB/s eta 0:00:01\n",
      "   ---------------------------------- ----- 1.8/2.1 MB 2.9 MB/s eta 0:00:01\n",
      "   ---------------------------------------- 2.1/2.1 MB 2.8 MB/s eta 0:00:00\n",
      "Downloading greenlet-3.2.4-cp312-cp312-win_amd64.whl (299 kB)\n",
      "Installing collected packages: greenlet, sqlalchemy\n",
      "\n",
      "   -------------------- ------------------- 1/2 [sqlalchemy]\n",
      "   -------------------- ------------------- 1/2 [sqlalchemy]\n",
      "   -------------------- ------------------- 1/2 [sqlalchemy]\n",
      "   -------------------- ------------------- 1/2 [sqlalchemy]\n",
      "   -------------------- ------------------- 1/2 [sqlalchemy]\n",
      "   -------------------- ------------------- 1/2 [sqlalchemy]\n",
      "   -------------------- ------------------- 1/2 [sqlalchemy]\n",
      "   -------------------- ------------------- 1/2 [sqlalchemy]\n",
      "   ---------------------------------------- 2/2 [sqlalchemy]\n",
      "\n",
      "Successfully installed greenlet-3.2.4 sqlalchemy-2.0.43\n"
     ]
    }
   ],
   "source": [
    "! pip install sqlalchemy"
   ]
  },
  {
   "cell_type": "code",
   "execution_count": 5,
   "id": "8eee87fc",
   "metadata": {},
   "outputs": [
    {
     "name": "stdout",
     "output_type": "stream",
     "text": [
      "Requested installation of cryptography; please restart the kernel and re-run the SQL cell.\n"
     ]
    }
   ],
   "source": [
    "# Install cryptography which PyMySQL needs for sha256/caching_sha2 authentication\n",
    "# Run this cell, then restart the kernel and re-run the connection/upload cells.\n",
    "!pip install cryptography --quiet\n",
    "print('Requested installation of cryptography; please restart the kernel and re-run the SQL cell.')\n"
   ]
  },
  {
   "cell_type": "code",
   "execution_count": 11,
   "id": "cdf1e61e",
   "metadata": {},
   "outputs": [
    {
     "name": "stdout",
     "output_type": "stream",
     "text": [
      "Data inserted successfully!\n"
     ]
    }
   ],
   "source": [
    "import pandas as pd\n",
    "from sqlalchemy import create_engine, text\n",
    "import pymysql\n",
    "\n",
    "# -----------------------------\n",
    "# Step 1: Connection settings\n",
    "# -----------------------------\n",
    "user = 'root'\n",
    "password = '1994'\n",
    "host = '127.0.0.1'\n",
    "database = 'ola_ride_analysis'\n",
    "table_name = 'ola_rides'\n",
    "csv_file = r'D:\\Labmentix\\Project_7\\ola_rides_SQL_PowerBI.csv'\n",
    "\n",
    "# -----------------------------\n",
    "# Step 2: Connect to MySQL server (without DB) to ensure DB exists\n",
    "# -----------------------------\n",
    "conn = pymysql.connect(host=host, user=user, password=password)\n",
    "cursor = conn.cursor()\n",
    "cursor.execute(f\"CREATE DATABASE IF NOT EXISTS {database};\")\n",
    "conn.commit()\n",
    "conn.close()\n",
    "\n",
    "# -----------------------------\n",
    "# Step 3: Create SQLAlchemy engine for the database\n",
    "# -----------------------------\n",
    "engine = create_engine(f'mysql+pymysql://{user}:{password}@{host}/{database}')\n",
    "\n",
    "# -----------------------------\n",
    "# Step 4: Create table if not exists\n",
    "# -----------------------------\n",
    "create_table_query = f\"\"\"\n",
    "CREATE TABLE IF NOT EXISTS {table_name} (\n",
    "    Date DATE,\n",
    "    Time TIME,\n",
    "    Booking_ID VARCHAR(50) PRIMARY KEY,\n",
    "    Customer_ID VARCHAR(50),\n",
    "    Ride_Status VARCHAR(30),\n",
    "    Booking_Status VARCHAR(30),\n",
    "    Vehicle_Type VARCHAR(50),\n",
    "    Ride_Distance INT NULL,\n",
    "    Booking_Value INT,\n",
    "    Payment_Method VARCHAR(30),\n",
    "    Driver_Ratings DECIMAL(3,2) NULL,\n",
    "    Customer_Rating DECIMAL(3,2) NULL,\n",
    "    Customer_Cancelled TINYINT,\n",
    "    Driver_Cancelled TINYINT,\n",
    "    Cancellation_Reason VARCHAR(100),\n",
    "    Incomplete_Rides_Flag TINYINT,\n",
    "    Incomplete_Rides_Reason VARCHAR(100),\n",
    "    Date_Time DATETIME,\n",
    "    Hour INT,\n",
    "    Day INT,\n",
    "    Is_Weekend TINYINT,\n",
    "    Month VARCHAR(10)\n",
    ");\n",
    "\"\"\"\n",
    "\n",
    "with engine.begin() as conn:  # automatically handles transactions\n",
    "    conn.execute(text(create_table_query))\n",
    "\n",
    "# -----------------------------\n",
    "# Step 5: Load CSV and insert in batches\n",
    "# -----------------------------\n",
    "df = pd.read_csv(csv_file)\n",
    "\n",
    "\n",
    "# Insert data in batches\n",
    "df.to_sql(\n",
    "    name=table_name,\n",
    "    con=engine,\n",
    "    if_exists='append',  # use 'replace' if you want to overwrite\n",
    "    index=False,\n",
    "    chunksize=10000,     # batches of 10k rows\n",
    "    method='multi'       # faster insertion\n",
    ")\n",
    "\n",
    "print(\"Data inserted successfully!\")"
   ]
  }
 ],
 "metadata": {
  "kernelspec": {
   "display_name": "Python 3",
   "language": "python",
   "name": "python3"
  },
  "language_info": {
   "codemirror_mode": {
    "name": "ipython",
    "version": 3
   },
   "file_extension": ".py",
   "mimetype": "text/x-python",
   "name": "python",
   "nbconvert_exporter": "python",
   "pygments_lexer": "ipython3",
   "version": "3.12.11"
  }
 },
 "nbformat": 4,
 "nbformat_minor": 5
}
